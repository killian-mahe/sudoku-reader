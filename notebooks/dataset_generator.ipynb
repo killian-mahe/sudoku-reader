{
 "cells": [
  {
   "cell_type": "code",
   "execution_count": 9,
   "metadata": {},
   "outputs": [],
   "source": [
    "from PIL import Image, ImageDraw, ImageFont\n",
    "import numpy as np\n",
    "import ntpath\n",
    "import os\n",
    "import glob"
   ]
  },
  {
   "cell_type": "markdown",
   "metadata": {},
   "source": [
    "# Generator parameters"
   ]
  },
  {
   "cell_type": "code",
   "execution_count": 10,
   "metadata": {},
   "outputs": [],
   "source": [
    "fontSize = 26\n",
    "imgSize = (28, 28)\n",
    "init_position = (7, -1)\n",
    "\n",
    "dataset_path = os.path.join(os.getcwd(), \"../img\", \"homemade-digits\")\n",
    "\n",
    "fhandle = open(\"Fonts_list.txt\", \"r\")\n",
    "\n",
    "digits = [str(i) for i in np.arange(0, 10)]\n",
    "\n",
    "all_fonts = glob.glob(\"C:\\\\Windows\\\\Fonts\\\\*.ttf\")"
   ]
  },
  {
   "cell_type": "markdown",
   "metadata": {},
   "source": [
    "# Initialisation"
   ]
  },
  {
   "cell_type": "code",
   "execution_count": 11,
   "metadata": {},
   "outputs": [],
   "source": [
    "if not os.path.exists(dataset_path):\n",
    "    os.makedirs(dataset_path)\n",
    "\n",
    "fonts_list = []\n",
    "for line in fhandle:\n",
    "    fonts_list.append(line.rstrip(\"\\n\"))\n",
    "\n",
    "total_fonts = len(fonts_list)\n",
    "f_flag = np.zeros(total_fonts)"
   ]
  },
  {
   "cell_type": "markdown",
   "metadata": {},
   "source": [
    "# Generator"
   ]
  },
  {
   "cell_type": "code",
   "execution_count": 12,
   "metadata": {},
   "outputs": [],
   "source": [
    "for sys_font in all_fonts:\n",
    "\n",
    "    font_file = ntpath.basename(sys_font)\n",
    "    font_file = font_file.rsplit(\".\")\n",
    "    font_file = font_file[0]\n",
    "    f_idx = 0\n",
    "\n",
    "    for font in fonts_list:\n",
    "        f_lower = font.lower()\n",
    "        s_lower = sys_font.lower()\n",
    "\n",
    "        if f_lower in s_lower:\n",
    "            path = sys_font\n",
    "            font = ImageFont.truetype(path, fontSize)\n",
    "\n",
    "            for ch in digits:\n",
    "                pos_idx = 0\n",
    "\n",
    "                for i in [-1, 0, 1]:\n",
    "                    for j in [-1, 0, 1]:\n",
    "\n",
    "                        image = Image.new(\"RGB\", imgSize, (0, 0, 0))\n",
    "                        draw = ImageDraw.Draw(image)\n",
    "                        style_idx = 0\n",
    "\n",
    "                        for y in [0]:\n",
    "                            for x in [-1, 0, 1]:\n",
    "\n",
    "                                position = (\n",
    "                                    x + i + init_position[0],\n",
    "                                    y + j + init_position[1],\n",
    "                                )\n",
    "                                draw.text(\n",
    "                                    position,\n",
    "                                    ch,\n",
    "                                    (255, 255, 255),\n",
    "                                    font=font,\n",
    "                                    align=\"center\",\n",
    "                                )\n",
    "                                file_name = (\n",
    "                                    font_file\n",
    "                                    + \"_\"\n",
    "                                    + ch\n",
    "                                    + \"_\"\n",
    "                                    + str(style_idx)\n",
    "                                    + \"_\"\n",
    "                                    + str(pos_idx)\n",
    "                                    + \".png\"\n",
    "                                )\n",
    "\n",
    "                                file_name = os.path.join(dataset_path, ch, file_name)\n",
    "                                image.save(file_name)\n",
    "\n",
    "                                style_idx += 1\n",
    "                        pos_idx += 1\n",
    "                f_flag[f_idx] = 1\n",
    "        f_idx += 1"
   ]
  }
 ],
 "metadata": {
  "interpreter": {
   "hash": "3728293052596f6988a6936ea7b3eb651649ae8800329b534f2a6d9402159572"
  },
  "kernelspec": {
   "display_name": "Python 3.9.9 64-bit ('env': venv)",
   "language": "python",
   "name": "python3"
  },
  "language_info": {
   "codemirror_mode": {
    "name": "ipython",
    "version": 3
   },
   "file_extension": ".py",
   "mimetype": "text/x-python",
   "name": "python",
   "nbconvert_exporter": "python",
   "pygments_lexer": "ipython3",
   "version": "3.9.9"
  },
  "orig_nbformat": 4
 },
 "nbformat": 4,
 "nbformat_minor": 2
}
