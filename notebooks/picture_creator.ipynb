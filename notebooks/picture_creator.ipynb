{
 "cells": [
  {
   "cell_type": "code",
   "execution_count": 218,
   "metadata": {},
   "outputs": [],
   "source": [
    "from PIL import Image, ImageDraw, ImageFont"
   ]
  },
  {
   "cell_type": "code",
   "execution_count": 219,
   "metadata": {},
   "outputs": [],
   "source": [
    "width = 900\n",
    "img = Image.new('RGB', (width, width), color='white')"
   ]
  },
  {
   "cell_type": "code",
   "execution_count": 220,
   "metadata": {},
   "outputs": [
    {
     "name": "stdout",
     "output_type": "stream",
     "text": [
      "45.0\n",
      "90\n"
     ]
    }
   ],
   "source": [
    "draw = ImageDraw.Draw(img)\n",
    "margin = 0.05*width\n",
    "cell_width = int((width - 2*margin) / 9)\n",
    "print(margin)\n",
    "print(cell_width)"
   ]
  },
  {
   "cell_type": "code",
   "execution_count": 221,
   "metadata": {},
   "outputs": [],
   "source": [
    "for x in range(0, 10):\n",
    "    line_width = 8 if not x % 3 else 2\n",
    "    draw.line([(cell_width*x + margin, margin), (cell_width*x + margin, 900 - margin)], fill=(0, 0, 0), width=line_width)\n",
    "\n",
    "for y in range(0, 10):\n",
    "    line_width = 8 if not y % 3 else 2\n",
    "    draw.line([(margin, cell_width*y + margin), (900 - margin, cell_width*y+margin)], fill=(0, 0, 0), width=line_width)"
   ]
  },
  {
   "cell_type": "code",
   "execution_count": 222,
   "metadata": {},
   "outputs": [],
   "source": [
    "font = ImageFont.truetype(\"arial\", 78)\n",
    "draw.text((90, 90), \"9\", (0,0,0), align=\"center\", font=font, anchor=\"mm\")"
   ]
  },
  {
   "cell_type": "code",
   "execution_count": 223,
   "metadata": {},
   "outputs": [],
   "source": [
    "img.save(\"test.png\")"
   ]
  }
 ],
 "metadata": {
  "interpreter": {
   "hash": "3728293052596f6988a6936ea7b3eb651649ae8800329b534f2a6d9402159572"
  },
  "kernelspec": {
   "display_name": "Python 3.9.9 64-bit ('env': venv)",
   "language": "python",
   "name": "python3"
  },
  "language_info": {
   "codemirror_mode": {
    "name": "ipython",
    "version": 3
   },
   "file_extension": ".py",
   "mimetype": "text/x-python",
   "name": "python",
   "nbconvert_exporter": "python",
   "pygments_lexer": "ipython3",
   "version": "3.9.9"
  },
  "orig_nbformat": 4
 },
 "nbformat": 4,
 "nbformat_minor": 2
}
